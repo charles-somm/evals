{
 "cells": [
  {
   "cell_type": "code",
   "execution_count": 2,
   "metadata": {},
   "outputs": [],
   "source": [
    "import yaml\n",
    "from jinja2 import Template\n",
    "from itertools import product\n",
    "from pathlib import Path\n",
    "\n",
    "from evals.data import get_jsonl"
   ]
  },
  {
   "cell_type": "markdown",
   "metadata": {},
   "source": [
    "##### Create all combinations of winelists and set of criteria with a cartesian product."
   ]
  },
  {
   "cell_type": "code",
   "execution_count": 40,
   "metadata": {},
   "outputs": [],
   "source": [
    "cwd = Path.cwd()\n",
    "\n",
    "winelist_relative_path = Path(\"registry/data/sommelia/winelists.jsonl\")\n",
    "criteria_relative_path = Path(\"registry/data/sommelia/criteria.jsonl\")\n",
    "\n",
    "winelist_path = cwd / winelist_relative_path\n",
    "criteria_path = cwd / criteria_relative_path"
   ]
  },
  {
   "cell_type": "code",
   "execution_count": 41,
   "metadata": {},
   "outputs": [],
   "source": [
    "winelists = get_jsonl(winelist_path)\n",
    "criteria = get_jsonl(criteria_path)"
   ]
  },
  {
   "cell_type": "code",
   "execution_count": 46,
   "metadata": {},
   "outputs": [],
   "source": [
    "# Cartesian product of winelists and criteria\n",
    "combinations = [{**winelist, **criterion} for winelist, criterion in product(winelists, criteria)]"
   ]
  },
  {
   "cell_type": "markdown",
   "metadata": {},
   "source": [
    "##### Generate the samples by rendering the prompt template using winelist and criteria as arguements for each combination"
   ]
  },
  {
   "cell_type": "code",
   "execution_count": null,
   "metadata": {},
   "outputs": [],
   "source": [
    "def render_template(template_id: str, winelist: str, criteria: str) -> list[dict]:\n",
    "    \"\"\"Renders a template with the given winelist and criteria.\n",
    "    TODO: Add examples separately.\n",
    "    \"\"\"\n",
    "    cwd = Path(__file__).parent\n",
    "    with open(cwd / \"templates.yaml\") as f:\n",
    "        templates = yaml.safe_load(f)\n",
    "    template = next(t for t in templates if t[\"template_id\"] == template_id)\n",
    "    system_prompt = template[\"system_template\"]\n",
    "    user_template = Template(template[\"user_template\"])\n",
    "    user_prompt = user_template.render(winelist=winelist, criteria=criteria)\n",
    "\n",
    "    messages = [\n",
    "        {\"role\": \"system\", \"content\": system_prompt},\n",
    "        {\"role\": \"user\", \"content\": user_prompt},\n",
    "    ]\n",
    "\n",
    "    return messages\n"
   ]
  },
  {
   "cell_type": "code",
   "execution_count": null,
   "metadata": {},
   "outputs": [],
   "source": []
  },
  {
   "cell_type": "code",
   "execution_count": null,
   "metadata": {},
   "outputs": [],
   "source": []
  },
  {
   "cell_type": "code",
   "execution_count": 44,
   "metadata": {},
   "outputs": [],
   "source": [
    "def write_to_jsonl(data, file_name:str):\n",
    "    path = cwd / Path(f\"registry/data/sommelia/{file_name}.jsonl\")\n",
    "    with open(path, \"a\") as f:\n",
    "        for line in data:\n",
    "            json.dump(line, f, ensure_ascii=False)\n",
    "            f.write(\"\\n\")"
   ]
  },
  {
   "cell_type": "code",
   "execution_count": 45,
   "metadata": {},
   "outputs": [],
   "source": [
    "write_to_jsonl(samples, \"samples\")"
   ]
  },
  {
   "cell_type": "code",
   "execution_count": null,
   "metadata": {},
   "outputs": [],
   "source": []
  },
  {
   "cell_type": "code",
   "execution_count": null,
   "metadata": {},
   "outputs": [],
   "source": []
  }
 ],
 "metadata": {
  "kernelspec": {
   "display_name": ".venv",
   "language": "python",
   "name": "python3"
  },
  "language_info": {
   "codemirror_mode": {
    "name": "ipython",
    "version": 3
   },
   "file_extension": ".py",
   "mimetype": "text/x-python",
   "name": "python",
   "nbconvert_exporter": "python",
   "pygments_lexer": "ipython3",
   "version": "3.11.4"
  }
 },
 "nbformat": 4,
 "nbformat_minor": 2
}
