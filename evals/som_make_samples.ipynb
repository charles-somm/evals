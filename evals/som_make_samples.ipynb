{
 "cells": [
  {
   "cell_type": "code",
   "execution_count": 34,
   "metadata": {},
   "outputs": [],
   "source": [
    "import json\n",
    "from itertools import product\n",
    "from pathlib import Path\n",
    "\n",
    "from evals.data import get_jsonl"
   ]
  },
  {
   "cell_type": "markdown",
   "metadata": {},
   "source": [
    "##### Create sets of samples by combining winelists and set of criteria with a cartesian product."
   ]
  },
  {
   "cell_type": "code",
   "execution_count": 40,
   "metadata": {},
   "outputs": [],
   "source": [
    "cwd = Path.cwd()\n",
    "\n",
    "winelist_relative_path = Path(\"registry/data/sommelia/winelists.jsonl\")\n",
    "criteria_relative_path = Path(\"registry/data/sommelia/criteria.jsonl\")\n",
    "\n",
    "winelist_path = cwd / winelist_relative_path\n",
    "criteria_path = cwd / criteria_relative_path"
   ]
  },
  {
   "cell_type": "code",
   "execution_count": 41,
   "metadata": {},
   "outputs": [],
   "source": [
    "winelists = get_jsonl(winelist_path)\n",
    "criteria = get_jsonl(criteria_path)"
   ]
  },
  {
   "cell_type": "code",
   "execution_count": 46,
   "metadata": {},
   "outputs": [],
   "source": [
    "# Cartesian product of winelists and criteria\n",
    "samples = [{**winelist, **criterion} for winelist, criterion in product(winelists, criteria)]"
   ]
  },
  {
   "cell_type": "code",
   "execution_count": 44,
   "metadata": {},
   "outputs": [],
   "source": [
    "def write_to_jsonl(data, file_name:str):\n",
    "    path = cwd / Path(f\"registry/data/sommelia/{file_name}.jsonl\")\n",
    "    with open(path, \"a\") as f:\n",
    "        for line in data:\n",
    "            json.dump(line, f, ensure_ascii=False)\n",
    "            f.write(\"\\n\")"
   ]
  },
  {
   "cell_type": "code",
   "execution_count": 45,
   "metadata": {},
   "outputs": [],
   "source": [
    "write_to_jsonl(samples, \"samples\")"
   ]
  },
  {
   "cell_type": "code",
   "execution_count": null,
   "metadata": {},
   "outputs": [],
   "source": []
  },
  {
   "cell_type": "code",
   "execution_count": null,
   "metadata": {},
   "outputs": [],
   "source": []
  }
 ],
 "metadata": {
  "kernelspec": {
   "display_name": ".venv",
   "language": "python",
   "name": "python3"
  },
  "language_info": {
   "codemirror_mode": {
    "name": "ipython",
    "version": 3
   },
   "file_extension": ".py",
   "mimetype": "text/x-python",
   "name": "python",
   "nbconvert_exporter": "python",
   "pygments_lexer": "ipython3",
   "version": "3.11.4"
  }
 },
 "nbformat": 4,
 "nbformat_minor": 2
}
