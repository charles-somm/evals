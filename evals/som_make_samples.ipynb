{
 "cells": [
  {
   "cell_type": "code",
   "execution_count": 34,
   "metadata": {},
   "outputs": [],
   "source": [
    "import json\n",
    "from itertools import product\n",
    "from pathlib import Path\n",
    "\n",
    "from evals.data import get_jsonl"
   ]
  },
  {
   "cell_type": "code",
   "execution_count": 26,
   "metadata": {},
   "outputs": [],
   "source": [
    "cwd = Path.cwd()\n",
    "\n",
    "winelist_relative_path = Path(\"registry/data/sommelia/winelists.jsonl\")\n",
    "criteria_relative_path = Path(\"registry/data/sommelia/criteria.jsonl\")\n",
    "\n",
    "winelist_path = cwd / winelist_relative_path\n",
    "criteria_path = cwd / criteria_relative_path"
   ]
  },
  {
   "cell_type": "code",
   "execution_count": 27,
   "metadata": {},
   "outputs": [],
   "source": [
    "winelists = get_jsonl(winelist_path)\n",
    "criteria = get_jsonl(criteria_path)"
   ]
  },
  {
   "cell_type": "code",
   "execution_count": 30,
   "metadata": {},
   "outputs": [],
   "source": [
    "samples = [{**winelist, **criterion} for winelist, criterion in product(winelists, criteria)]"
   ]
  },
  {
   "cell_type": "code",
   "execution_count": 35,
   "metadata": {},
   "outputs": [],
   "source": [
    "def write_to_jsonl(data, file_name:str):\n",
    "    path = cwd / Path(f\"registry/data/sommelia/{file_name}.jsonl\")\n",
    "    with open(path, \"a\") as f:\n",
    "        for line in data:\n",
    "            json.dump(line, f, ensure_ascii=False)\n",
    "            f.write(\"\\n\")"
   ]
  },
  {
   "cell_type": "code",
   "execution_count": 36,
   "metadata": {},
   "outputs": [],
   "source": [
    "write_to_jsonl(samples, \"samples2\")"
   ]
  },
  {
   "cell_type": "code",
   "execution_count": null,
   "metadata": {},
   "outputs": [],
   "source": []
  },
  {
   "cell_type": "code",
   "execution_count": null,
   "metadata": {},
   "outputs": [],
   "source": []
  }
 ],
 "metadata": {
  "kernelspec": {
   "display_name": ".venv",
   "language": "python",
   "name": "python3"
  },
  "language_info": {
   "codemirror_mode": {
    "name": "ipython",
    "version": 3
   },
   "file_extension": ".py",
   "mimetype": "text/x-python",
   "name": "python",
   "nbconvert_exporter": "python",
   "pygments_lexer": "ipython3",
   "version": "3.11.4"
  }
 },
 "nbformat": 4,
 "nbformat_minor": 2
}
